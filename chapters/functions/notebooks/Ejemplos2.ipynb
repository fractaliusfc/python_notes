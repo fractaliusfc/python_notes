{
  "nbformat": 4,
  "nbformat_minor": 0,
  "metadata": {
    "colab": {
      "name": "Ejemplos.ipynb",
      "provenance": []
    },
    "kernelspec": {
      "name": "python3",
      "display_name": "Python 3"
    },
    "language_info": {
      "name": "python"
    }
  },
  "cells": [
    {
      "cell_type": "markdown",
      "source": [
        "# Ejemplo 1\n",
        "\n",
        "Escribir un programa que usando un ciclo imprima lo siguiente dado el número de renglones, *n*.\n",
        "\n",
        "```\n",
        "*\n",
        "**\n",
        "***\n",
        "****\n",
        "*****\n",
        "```"
      ],
      "metadata": {
        "id": "pxwKUXFb_ZXo"
      }
    },
    {
      "cell_type": "code",
      "execution_count": null,
      "metadata": {
        "colab": {
          "base_uri": "https://localhost:8080/"
        },
        "id": "yhaUm4O4_V5T",
        "outputId": "466405c9-0fd8-4289-c49b-2e756018e07d"
      },
      "outputs": [
        {
          "output_type": "stream",
          "name": "stdout",
          "text": [
            "*\n",
            "**\n",
            "***\n",
            "****\n",
            "*****\n"
          ]
        }
      ],
      "source": [
        "n = 5    # Número de renglones\n",
        "for i in range(n):\n",
        "    for j in range(i+1):\n",
        "        print('*', end='')\n",
        "    print('')"
      ]
    },
    {
      "cell_type": "markdown",
      "source": [
        "# Ejemplo 2\n",
        "\n",
        "Hacer un programa que sume todos los numeros de 0 al 100"
      ],
      "metadata": {
        "id": "NAOFilaZDrU-"
      }
    },
    {
      "cell_type": "code",
      "source": [
        "lista = []\n",
        "for i in range(0, 101):\n",
        "    lista.append(i)\n",
        "resultado = sum(lista)\n",
        "print(resultado)"
      ],
      "metadata": {
        "colab": {
          "base_uri": "https://localhost:8080/"
        },
        "id": "ufN_pyDhAbSR",
        "outputId": "551d23f3-8bd4-44ac-8730-2b1933211965"
      },
      "execution_count": null,
      "outputs": [
        {
          "output_type": "stream",
          "name": "stdout",
          "text": [
            "5050\n"
          ]
        }
      ]
    },
    {
      "cell_type": "code",
      "source": [
        "lista2 = list(range(0,101))\n",
        "resultado2 = sum(lista2)\n",
        "print(resultado2)"
      ],
      "metadata": {
        "colab": {
          "base_uri": "https://localhost:8080/"
        },
        "id": "Jqm4ANHmEZbc",
        "outputId": "606719d3-c077-4eee-cb73-71b1aa7c7c49"
      },
      "execution_count": null,
      "outputs": [
        {
          "output_type": "stream",
          "name": "stdout",
          "text": [
            "5050\n"
          ]
        }
      ]
    },
    {
      "cell_type": "code",
      "source": [
        "resultado2 = sum(list(range(0, 101)))\n",
        "print(resultado2)"
      ],
      "metadata": {
        "colab": {
          "base_uri": "https://localhost:8080/"
        },
        "id": "DsaQS890EdtJ",
        "outputId": "f12f732d-7c28-4769-c542-2a3c525591f9"
      },
      "execution_count": null,
      "outputs": [
        {
          "output_type": "stream",
          "name": "stdout",
          "text": [
            "5050\n"
          ]
        }
      ]
    },
    {
      "cell_type": "markdown",
      "source": [
        "# Ejemplo 3\n",
        "\n",
        "Hacer un función que sume dos números y regrese el resultado"
      ],
      "metadata": {
        "id": "4E7ys7czE-zS"
      }
    },
    {
      "cell_type": "code",
      "source": [
        "def suma(num1, num2):\n",
        "    resultado = num1 + num2\n",
        "    return resultado"
      ],
      "metadata": {
        "id": "k8udxg_FEsry"
      },
      "execution_count": null,
      "outputs": []
    },
    {
      "cell_type": "code",
      "source": [
        "suma(1,2)"
      ],
      "metadata": {
        "colab": {
          "base_uri": "https://localhost:8080/"
        },
        "id": "7YDVj65OFrR-",
        "outputId": "eacdf154-c7bc-4f83-efaa-be7e26ffd443"
      },
      "execution_count": null,
      "outputs": [
        {
          "output_type": "execute_result",
          "data": {
            "text/plain": [
              "3"
            ]
          },
          "metadata": {},
          "execution_count": 21
        }
      ]
    },
    {
      "cell_type": "code",
      "source": [
        "suma(102131, 12312312)"
      ],
      "metadata": {
        "colab": {
          "base_uri": "https://localhost:8080/"
        },
        "id": "XFg3So9GFtSZ",
        "outputId": "e761e1ce-47e0-4bb7-98ac-5837a9d61f74"
      },
      "execution_count": null,
      "outputs": [
        {
          "output_type": "execute_result",
          "data": {
            "text/plain": [
              "12414443"
            ]
          },
          "metadata": {},
          "execution_count": 22
        }
      ]
    },
    {
      "cell_type": "markdown",
      "source": [
        "# Ejemplo 4\n",
        "\n",
        "Hacer una función que, dado un año, imprima el siglo correspondiente. Tomar en cuenta que del año 1 al año 100, es el siglo 1"
      ],
      "metadata": {
        "id": "gNGeQRbpGBY3"
      }
    },
    {
      "cell_type": "code",
      "source": [
        "def siglo(year):\n",
        "    cent = int(year/100) + 1\n",
        "    if year % 100 == 0:\n",
        "        cent = cent - 1\n",
        "    print(f'El año {year} pertenece al siglo {cent}')\n",
        "\n",
        "siglo(5)\n",
        "siglo(105)\n",
        "siglo(1)\n",
        "siglo(100)\n",
        "siglo(2000)"
      ],
      "metadata": {
        "colab": {
          "base_uri": "https://localhost:8080/"
        },
        "id": "6ahjtOsWFvGx",
        "outputId": "179524f0-64dc-4730-989b-3c3877f21da5"
      },
      "execution_count": null,
      "outputs": [
        {
          "output_type": "stream",
          "name": "stdout",
          "text": [
            "El año 5 pertenece al siglo 1\n",
            "El año 105 pertenece al siglo 2\n",
            "El año 1 pertenece al siglo 1\n",
            "El año 100 pertenece al siglo 1\n",
            "El año 2000 pertenece al siglo 20\n"
          ]
        }
      ]
    },
    {
      "cell_type": "code",
      "source": [
        "def siglo2(year):\n",
        "    cent = (year + 99) // 100\n",
        "    print(f'El año {year} pertenece al siglo {cent}')\n",
        "\n",
        "siglo2(5)\n",
        "siglo2(105)\n",
        "siglo2(1)\n",
        "siglo2(100)\n",
        "siglo2(2000)"
      ],
      "metadata": {
        "colab": {
          "base_uri": "https://localhost:8080/"
        },
        "id": "s00fgRA-G4Lh",
        "outputId": "5457a4b6-9d83-41d7-8a74-6957fc6b8f00"
      },
      "execution_count": null,
      "outputs": [
        {
          "output_type": "stream",
          "name": "stdout",
          "text": [
            "El año 5 pertenece al siglo 1\n",
            "El año 105 pertenece al siglo 2\n",
            "El año 1 pertenece al siglo 1\n",
            "El año 100 pertenece al siglo 1\n",
            "El año 2000 pertenece al siglo 20\n"
          ]
        }
      ]
    },
    {
      "cell_type": "markdown",
      "source": [
        "# Ejemplo 5\n",
        "\n",
        "Realizar una función que revise si una string es un palíndromo (la string no tendrá espacios ni números ni caracteres especiales y solo se conformará de letras minúsculas). La función tiene que regresar True o False"
      ],
      "metadata": {
        "id": "a2g-cJqnIsSW"
      }
    },
    {
      "cell_type": "code",
      "source": [
        "def palindromo(texto):\n",
        "    texto_inv = texto[::-1]\n",
        "    if texto == texto_inv:\n",
        "        return True\n",
        "    else:\n",
        "        return False"
      ],
      "metadata": {
        "id": "sKp-C-pQIES4"
      },
      "execution_count": null,
      "outputs": []
    },
    {
      "cell_type": "code",
      "source": [
        "palindromo('aabaa')"
      ],
      "metadata": {
        "colab": {
          "base_uri": "https://localhost:8080/"
        },
        "id": "HCDzY3uEJsof",
        "outputId": "0aef0c2a-b26e-43d7-bfe3-a9896b8a6193"
      },
      "execution_count": null,
      "outputs": [
        {
          "output_type": "execute_result",
          "data": {
            "text/plain": [
              "True"
            ]
          },
          "metadata": {},
          "execution_count": 33
        }
      ]
    },
    {
      "cell_type": "code",
      "source": [
        "palindromo('babaa')"
      ],
      "metadata": {
        "colab": {
          "base_uri": "https://localhost:8080/"
        },
        "id": "4axFWK6TJxrn",
        "outputId": "3a3123d6-4b57-47a7-fb03-3615f5e73849"
      },
      "execution_count": null,
      "outputs": [
        {
          "output_type": "execute_result",
          "data": {
            "text/plain": [
              "False"
            ]
          },
          "metadata": {},
          "execution_count": 34
        }
      ]
    },
    {
      "cell_type": "markdown",
      "source": [
        "# Ejemplo 6\n",
        "\n",
        "Calcular el área de la figura dado el *n*."
      ],
      "metadata": {
        "id": "WxT5bEmlKwIa"
      }
    },
    {
      "cell_type": "markdown",
      "source": [
        "![descarga.png](data:image/png;base64,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)"
      ],
      "metadata": {
        "id": "jQr-cUQUW8-i"
      }
    },
    {
      "cell_type": "code",
      "source": [
        "def area(n):\n",
        "    return n * n + (n-1)*(n-1)"
      ],
      "metadata": {
        "id": "8bHFGycxJ0RE"
      },
      "execution_count": null,
      "outputs": []
    },
    {
      "cell_type": "code",
      "source": [
        "area(1)"
      ],
      "metadata": {
        "colab": {
          "base_uri": "https://localhost:8080/"
        },
        "id": "HDb-X_X7Mkw-",
        "outputId": "ef01c3c0-f985-4fca-db8f-1320892050be"
      },
      "execution_count": null,
      "outputs": [
        {
          "output_type": "execute_result",
          "data": {
            "text/plain": [
              "1"
            ]
          },
          "metadata": {},
          "execution_count": 36
        }
      ]
    },
    {
      "cell_type": "code",
      "source": [
        "area(2)"
      ],
      "metadata": {
        "colab": {
          "base_uri": "https://localhost:8080/"
        },
        "id": "EcauphCrMmHO",
        "outputId": "eb637093-3150-4dae-9130-b6f8ecbcc75c"
      },
      "execution_count": null,
      "outputs": [
        {
          "output_type": "execute_result",
          "data": {
            "text/plain": [
              "5"
            ]
          },
          "metadata": {},
          "execution_count": 37
        }
      ]
    },
    {
      "cell_type": "code",
      "source": [
        "area(3)"
      ],
      "metadata": {
        "id": "Ugs-uzzUMoL9",
        "outputId": "ec865011-d701-466c-8ed9-64c498aa0a52",
        "colab": {
          "base_uri": "https://localhost:8080/"
        }
      },
      "execution_count": null,
      "outputs": [
        {
          "output_type": "execute_result",
          "data": {
            "text/plain": [
              "13"
            ]
          },
          "metadata": {},
          "execution_count": 38
        }
      ]
    },
    {
      "cell_type": "code",
      "source": [
        "area(4)"
      ],
      "metadata": {
        "id": "ZtXyfq-GMp-t",
        "outputId": "dddd6d3f-31fb-4582-badc-57e97b3a689e",
        "colab": {
          "base_uri": "https://localhost:8080/"
        }
      },
      "execution_count": null,
      "outputs": [
        {
          "output_type": "execute_result",
          "data": {
            "text/plain": [
              "25"
            ]
          },
          "metadata": {},
          "execution_count": 39
        }
      ]
    },
    {
      "cell_type": "code",
      "source": [
        ""
      ],
      "metadata": {
        "id": "Pk8mo6wWMr62"
      },
      "execution_count": null,
      "outputs": []
    }
  ]
}